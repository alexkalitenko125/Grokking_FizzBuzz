{
 "cells": [
  {
   "cell_type": "code",
   "execution_count": 1,
   "id": "1d4cf661",
   "metadata": {},
   "outputs": [],
   "source": [
    "import torch \n",
    "import pandas as pd \n",
    "import torch.nn as nn \n",
    "from torch.utils.data import random_split, DataLoader, TensorDataset \n",
    "import torch.nn.functional as F \n",
    "import numpy as np \n",
    "import torch.optim as optim \n",
    "from torch.optim import AdamW\n",
    "import random\n",
    "import matplotlib.pyplot as plt\n",
    "import seaborn as sns\n",
    "\n",
    "import os    \n",
    "os.environ['KMP_DUPLICATE_LIB_OK'] = 'True'\n"
   ]
  },
  {
   "cell_type": "code",
   "execution_count": 2,
   "id": "fe84677d",
   "metadata": {},
   "outputs": [],
   "source": [
    "def FizzBuzz(a):\n",
    "    if a%15==0:\n",
    "        return [1,0,0,0]\n",
    "    elif a%5==0:\n",
    "        return [0,1,0,0]\n",
    "    elif a%3==0:\n",
    "        return [0,0,1,0]\n",
    "    else:\n",
    "        return [0,0,0,1]"
   ]
  },
  {
   "cell_type": "code",
   "execution_count": 3,
   "id": "ae79486f",
   "metadata": {},
   "outputs": [],
   "source": [
    "input_size = 16\n",
    "\n",
    "def binary_encode(x):\n",
    "    l = []\n",
    "    for i in range(input_size):\n",
    "        l.append(x%2)\n",
    "        x=x//2\n",
    "        \n",
    "    return l[::-1]"
   ]
  },
  {
   "cell_type": "code",
   "execution_count": 4,
   "id": "55450802",
   "metadata": {},
   "outputs": [
    {
     "data": {
      "text/plain": [
       "[0, 0, 0, 0, 0, 0, 0, 0, 0, 0, 0, 0, 0, 0, 1, 0]"
      ]
     },
     "execution_count": 4,
     "metadata": {},
     "output_type": "execute_result"
    }
   ],
   "source": [
    "binary_encode(2)"
   ]
  },
  {
   "cell_type": "code",
   "execution_count": 5,
   "id": "813938d9",
   "metadata": {},
   "outputs": [],
   "source": [
    "xs = [binary_encode(n) for n in range(100,4000)]\n",
    "xs1 = [binary_encode(n) for n in range(1,100)]\n"
   ]
  },
  {
   "cell_type": "code",
   "execution_count": 6,
   "id": "2a77acaf",
   "metadata": {},
   "outputs": [],
   "source": [
    "ys = [FizzBuzz(n) for n in range(100,4000)]\n",
    "ys1 = [FizzBuzz(n) for n in range(1,100)]\n"
   ]
  },
  {
   "cell_type": "code",
   "execution_count": 7,
   "id": "b17e4856",
   "metadata": {},
   "outputs": [],
   "source": [
    "from sklearn.model_selection import train_test_split\n",
    "\n",
    "X_train, X_val, y_train, y_val = train_test_split(xs, ys, test_size=0.8, random_state=42)\n",
    "\n",
    "X_test = xs1\n",
    "y_test = ys1"
   ]
  },
  {
   "cell_type": "code",
   "execution_count": 8,
   "id": "dcc3a304",
   "metadata": {},
   "outputs": [],
   "source": [
    "\n",
    "X_train = torch.Tensor(X_train) \n",
    "y_train = torch.Tensor(y_train)\n",
    "X_val = torch.Tensor(X_val)\n",
    "y_val = torch.Tensor(y_val)\n",
    "X_test = torch.Tensor(X_test)\n",
    "y_test = torch.Tensor(y_test)\n",
    "\n",
    "train_set = TensorDataset(X_train, y_train) \n",
    "validate_set = TensorDataset(X_val, y_val) \n",
    "test_set = TensorDataset(X_test, y_test) \n",
    "test_set2 = TensorDataset(X_train, y_train) \n",
    "test_set3 = TensorDataset(X_val, y_val) \n",
    "\n",
    "\n",
    "# Create Dataloader to read the data within batch sizes and put into memory. \n",
    "train_loader = DataLoader(train_set, batch_size = 400, shuffle = True) \n",
    "validate_loader = DataLoader(validate_set, batch_size = 400) \n",
    "test_loader = DataLoader(test_set, batch_size = 100)\n",
    "test_loader2 = DataLoader(test_set2, batch_size = 100)\n",
    "test_loader3 = DataLoader(test_set3, batch_size = 100)"
   ]
  },
  {
   "cell_type": "code",
   "execution_count": 9,
   "id": "db94f3b7",
   "metadata": {},
   "outputs": [],
   "source": [
    "# Define model parameters \n",
    "\n",
    "\n",
    "# Define neural network \n",
    "class Network(nn.Module): \n",
    "    def __init__(self, input_size, output_size, init_form=\"normal\"): \n",
    "        super().__init__() \n",
    "        self.conv_stack = nn.Sequential(\n",
    "        nn.Linear(input_size, 200), \n",
    "        nn.Tanh(),\n",
    "        nn.Linear(200, 200), \n",
    "        nn.Tanh(),\n",
    "        nn.Linear(200, 200),\n",
    "        nn.Tanh(),\n",
    "        nn.Linear(200, output_size))\n",
    "        \n",
    "                \n",
    "\n",
    "        self.init_form = init_form\n",
    "        if self.init_form is not None:\n",
    "            self.init()\n",
    "\n",
    "    def forward(self, x): \n",
    "        s = self.conv_stack(x)\n",
    "        return s\n",
    "    \n",
    "    \n",
    "        # xavier weight initialization\n",
    "    def init(self):\n",
    "        sigmoid_gain = torch.nn.init.calculate_gain(\"tanh\")\n",
    "        for child in self.conv_stack.children():\n",
    "            if isinstance(child, nn.Linear):\n",
    "                if self.init_form == \"normal\":\n",
    "                    torch.nn.init.xavier_normal_(child.weight,\n",
    "                                                 gain=sigmoid_gain)\n",
    "                    if child.bias is not None:\n",
    "                        torch.nn.init.zeros_(child.bias)\n",
    "                elif self.init_form == \"uniform\":\n",
    "                    torch.nn.init.xavier_uniform_(child.weight,\n",
    "                                                  gain=sigmoid_gain)\n",
    "                    if child.bias is not None:\n",
    "                        torch.nn.init.zeros_(child.bias)\n",
    "                else:\n",
    "                    raise NotImplementedError()\n",
    "    \n",
    "  "
   ]
  },
  {
   "cell_type": "markdown",
   "id": "829b3d1e",
   "metadata": {},
   "source": [
    "    def __init__(self, input_size, output_size, init_form=\"normal\"): \n",
    "        super().__init__() \n",
    "        self.conv_stack = nn.Sequential(\n",
    "        nn.Linear(input_size, 100), \n",
    "        nn.Dropout(p=0.2),\n",
    "        nn.ReLU(),\n",
    "        nn.Linear(100, 100),\n",
    "        nn.Dropout(p=0.2),\n",
    "        nn.ReLU(),\n",
    "        nn.Linear(100, output_size))"
   ]
  },
  {
   "cell_type": "code",
   "execution_count": 10,
   "id": "a50d04b5",
   "metadata": {},
   "outputs": [],
   "source": [
    "device = torch.device(\"cuda\" if torch.cuda.is_available() else \"cpu\")\n",
    "\n",
    "def train_epoch(model,\n",
    "                optimizer,\n",
    "                criterion,\n",
    "                train_loader):\n",
    "    loss_history = []\n",
    "    for batch in train_loader: \n",
    "        optimizer.zero_grad()\n",
    "        x_train, y_train = batch # parse data\n",
    "        x_train, y_train = x_train.to(device), y_train.to(device) # compute on gpu\n",
    "        y_pred = model(x_train) # get predictions\n",
    "        loss = criterion(y_pred,y_train) # compute loss\n",
    "        loss_history.append(loss.cpu().detach().numpy()) # write loss to log\n",
    "        loss.backward()\n",
    "        optimizer.step()\n",
    "    return loss_history"
   ]
  },
  {
   "cell_type": "code",
   "execution_count": 11,
   "id": "8a6c7ede",
   "metadata": {},
   "outputs": [],
   "source": [
    "def validate(model,\n",
    "             criterion,\n",
    "             val_loader):\n",
    "    cumloss = 0\n",
    "    loss_history = []\n",
    "    with torch.no_grad():\n",
    "        for batch in val_loader:\n",
    "            x_train, y_train = batch # parse data\n",
    "            x_train, y_train = x_train.to(device), y_train.to(device) # compute on gpu\n",
    "            y_pred = model(x_train) # get predictions\n",
    "            loss = criterion(y_pred,y_train) # compute loss\n",
    "            loss_history.append(loss.cpu().detach().numpy()) # write loss to log\n",
    "            cumloss += loss\n",
    "    return cumloss / len(val_loader), loss_history # mean loss and history"
   ]
  },
  {
   "cell_type": "code",
   "execution_count": 12,
   "id": "4b26f05e",
   "metadata": {},
   "outputs": [],
   "source": [
    "def gini(model):\n",
    "    a1 = torch.abs(torch.flatten((model.conv_stack[0].weight))) \n",
    "    a2 =  torch.abs(torch.flatten((model.conv_stack[2].weight)))\n",
    "    a3 = torch.abs(torch.flatten((model.conv_stack[4].weight)))\n",
    "    a4 = torch.abs(torch.flatten((model.conv_stack[6].weight)))\n",
    "    n1 = len(a1)\n",
    "    n2 = len(a2)\n",
    "    n3 = len(a3)\n",
    "    n4 = len(a4)\n",
    "    a_sort1, ind = torch.sort(a1)\n",
    "    a_sort2, ind = torch.sort(a2)\n",
    "    a_sort3, ind = torch.sort(a3)\n",
    "    a_sort4, ind = torch.sort(a4)\n",
    "    x_m1 = torch.mean(a1)\n",
    "    x_m2 = torch.mean(a2)\n",
    "    x_m3 = torch.mean(a3)\n",
    "    x_m4 = torch.mean(a4)\n",
    "    S = 0\n",
    "\n",
    "\n",
    "    for i in range(n1):\n",
    "        S += i*(a_sort1[i]-x_m1) \n",
    "    \n",
    "    gini1 = 2*S/x_m1/n1**2\n",
    "    S = 0\n",
    "    \n",
    "    for i in range(n2):\n",
    "        S += i*(a_sort2[i]-x_m2) \n",
    "    \n",
    "        \n",
    "    gini2 = 2*S/x_m2/n2**2\n",
    "    S = 0\n",
    "    \n",
    "    for i in range(n3):\n",
    "        S += i*(a_sort3[i]-x_m3) \n",
    "        \n",
    "    gini3 = 2*S/x_m3/n3**2\n",
    "    S = 0\n",
    "    \n",
    "    for i in range(n4):\n",
    "        S += i*(a_sort4[i]-x_m4) \n",
    "        \n",
    "    gini4 = 2*S/x_m4/n4**2\n",
    "\n",
    "\n",
    "    \n",
    "    return gini1.detach().cpu().numpy(), gini2.detach().cpu().numpy(), gini3.detach().cpu().numpy(), gini4.detach().cpu().numpy()\n",
    "    "
   ]
  },
  {
   "cell_type": "code",
   "execution_count": 13,
   "id": "9e1460ab",
   "metadata": {},
   "outputs": [],
   "source": [
    "def test(model, test_loader):\n",
    "    cumloss1 = 0\n",
    "    with torch.no_grad():\n",
    "        for batch in test_loader:\n",
    "            x_train, y_train = batch # parse data\n",
    "            x_train, y_train = x_train.to(device), y_train.to(device) # compute on gpu\n",
    "            y_pred = model(x_train) # get predictions\n",
    "            loss1 = torch.sum(torch.argmax(y_pred,dim=1)==torch.argmax(y_train,dim=1)) # compute loss\n",
    "            cumloss1 += loss1/len(batch[0])\n",
    "    return (cumloss1 / len(test_loader)).cpu().detach().numpy() \n"
   ]
  },
  {
   "cell_type": "code",
   "execution_count": 14,
   "id": "f3fed850",
   "metadata": {},
   "outputs": [],
   "source": [
    "from tqdm import tqdm\n",
    "\n",
    "def train_model(model, optimizer, model_name=None, n_epochs=5):\n",
    "  \n",
    "    criterion = nn.CrossEntropyLoss().to(device)\n",
    "\n",
    "    train_history = {}\n",
    "    train_history['model_name'] = model_name\n",
    "    train_history['loss_on_train'] = []\n",
    "    train_history['loss_on_val'] = []\n",
    "    train_history['gini1'] = []\n",
    "    train_history['gini2'] = []\n",
    "    train_history['gini3'] = []\n",
    "    train_history['gini4'] = []\n",
    "    train_history['test'] = []\n",
    "    train_history['test2'] = []\n",
    "    train_history['test3'] = []\n",
    "\n",
    "    for epoch in tqdm(range(n_epochs)):\n",
    "        loss_on_train = train_epoch(model,\n",
    "                                    optimizer,\n",
    "                                    criterion,\n",
    "                                    train_loader)\n",
    "        _, loss_on_test = validate(model,\n",
    "                                   criterion,\n",
    "                                   validate_loader)\n",
    "        train_history['loss_on_train'].append(np.mean(loss_on_train))\n",
    "        train_history['loss_on_val'].append(np.mean(loss_on_test))\n",
    "        \n",
    "        if epoch%100 == 0:\n",
    "            model.eval()\n",
    "            arr = gini(model)\n",
    "            train_history['gini1'].append(arr[0])\n",
    "            train_history['gini2'].append(arr[1])\n",
    "            train_history['gini3'].append(arr[2])\n",
    "            train_history['gini4'].append(arr[3])\n",
    "            model.train()\n",
    "        \n",
    "        model.eval()\n",
    "        train_history['test'].append(test(model, test_loader))\n",
    "        train_history['test2'].append(test(model, test_loader2))\n",
    "        train_history['test3'].append(test(model, test_loader3))\n",
    "        model.train()\n",
    "        \n",
    "        \n",
    "        scheduler.step()\n",
    "    return train_history"
   ]
  },
  {
   "cell_type": "code",
   "execution_count": 15,
   "id": "f030e212",
   "metadata": {},
   "outputs": [
    {
     "name": "stderr",
     "output_type": "stream",
     "text": [
      "100%|██████████████████████████████████████████████████████████████████████████| 50000/50000 [1:49:48<00:00,  7.59it/s]\n"
     ]
    }
   ],
   "source": [
    "def set_random_seed(seed):\n",
    "    torch.manual_seed(seed)\n",
    "    torch.cuda.manual_seed(seed)\n",
    "    np.random.seed(seed)\n",
    "    random.seed(seed)\n",
    "    torch.backends.cudnn.deterministic = True\n",
    "\n",
    "\n",
    "set_random_seed(42)\n",
    "\n",
    "model = Network(input_size,4).to(device) \n",
    "optimizer = optim.AdamW(model.parameters(), weight_decay=0.2, betas=(0.9,0.95), lr=0.001)\n",
    "\n",
    "lambda1 = lambda epoch: 1.0 ** epoch\n",
    "scheduler = torch.optim.lr_scheduler.LambdaLR(optimizer, lr_lambda=lambda1, last_epoch = -1)\n",
    "\n",
    "n_epochs = 50000\n",
    "history = train_model(model, optimizer, model_name='model', n_epochs=n_epochs)\n"
   ]
  },
  {
   "cell_type": "code",
   "execution_count": 18,
   "id": "fc83567c",
   "metadata": {},
   "outputs": [
    {
     "data": {
      "text/plain": [
       "<matplotlib.legend.Legend at 0x21f26fb4d00>"
      ]
     },
     "execution_count": 18,
     "metadata": {},
     "output_type": "execute_result"
    },
    {
     "data": {
      "image/png": "[encoded data removed]",
      "text/plain": [
       "<Figure size 864x576 with 1 Axes>"
      ]
     },
     "metadata": {
      "needs_background": "light"
     },
     "output_type": "display_data"
    }
   ],
   "source": [
    "limit_range = (-0.1,3)\n",
    "plt.figure(figsize=(12, 8))\n",
    "plt.ylim(limit_range)\n",
    "plt.plot(range(1,n_epochs+1), (history['loss_on_train']), label='train')\n",
    "plt.plot(range(1,n_epochs+1), (history['loss_on_val']), label='val')\n",
    "plt.xlabel('epoch')\n",
    "plt.ylabel('loss')\n",
    "plt.legend()\n"
   ]
  },
  {
   "cell_type": "code",
   "execution_count": 19,
   "id": "7f078907",
   "metadata": {},
   "outputs": [
    {
     "data": {
      "text/plain": [
       "<matplotlib.legend.Legend at 0x21f274e4cd0>"
      ]
     },
     "execution_count": 19,
     "metadata": {},
     "output_type": "execute_result"
    },
    {
     "data": {
      "image/png": "[encoded data removed]",
      "text/plain": [
       "<Figure size 864x576 with 1 Axes>"
      ]
     },
     "metadata": {
      "needs_background": "light"
     },
     "output_type": "display_data"
    }
   ],
   "source": [
    "plt.figure(figsize=(12, 8))\n",
    "plt.plot(range(1,n_epochs//100+1), (history['gini1']), label='gini1')\n",
    "plt.plot(range(1,n_epochs//100+1), (history['gini2']), label='gini2')\n",
    "plt.plot(range(1,n_epochs//100+1), (history['gini3']), label='gini3')\n",
    "plt.plot(range(1,n_epochs//100+1), (history['gini4']), label='gini4')\n",
    "plt.ylabel('gini')\n",
    "plt.legend()"
   ]
  },
  {
   "cell_type": "code",
   "execution_count": 20,
   "id": "398ad6bc",
   "metadata": {},
   "outputs": [
    {
     "data": {
      "text/plain": [
       "<matplotlib.legend.Legend at 0x21f274daa60>"
      ]
     },
     "execution_count": 20,
     "metadata": {},
     "output_type": "execute_result"
    },
    {
     "data": {
      "image/png": "[encoded data removed]",
      "text/plain": [
       "<Figure size 864x576 with 1 Axes>"
      ]
     },
     "metadata": {
      "needs_background": "light"
     },
     "output_type": "display_data"
    }
   ],
   "source": [
    "plt.figure(figsize=(12, 8))\n",
    "plt.plot(range(1,n_epochs+1), (history['test']), label='test')\n",
    "plt.plot(range(1,n_epochs+1), (history['test2']), label='train')\n",
    "plt.plot(range(1,n_epochs+1), (history['test3']), label='val')\n",
    "plt.ylabel('accuracy')\n",
    "plt.legend()"
   ]
  },
  {
   "cell_type": "code",
   "execution_count": 21,
   "id": "6986b941",
   "metadata": {},
   "outputs": [
    {
     "data": {
      "text/plain": [
       "Network(\n",
       "  (conv_stack): Sequential(\n",
       "    (0): Linear(in_features=16, out_features=200, bias=True)\n",
       "    (1): Tanh()\n",
       "    (2): Linear(in_features=200, out_features=200, bias=True)\n",
       "    (3): Tanh()\n",
       "    (4): Linear(in_features=200, out_features=200, bias=True)\n",
       "    (5): Tanh()\n",
       "    (6): Linear(in_features=200, out_features=4, bias=True)\n",
       "  )\n",
       ")"
      ]
     },
     "execution_count": 21,
     "metadata": {},
     "output_type": "execute_result"
    }
   ],
   "source": [
    "model.eval()"
   ]
  },
  {
   "cell_type": "code",
   "execution_count": 22,
   "id": "fd26212b",
   "metadata": {},
   "outputs": [
    {
     "data": {
      "text/plain": [
       "tensor(2892.6987, device='cuda:0', grad_fn=<AddBackward0>)"
      ]
     },
     "execution_count": 22,
     "metadata": {},
     "output_type": "execute_result"
    }
   ],
   "source": [
    "weight_sum = (((model.conv_stack[0].weight)*(model.conv_stack[0].weight)).sum()  \n",
    "+ ((model.conv_stack[2].weight)*(model.conv_stack[2].weight)).sum()\n",
    "+ ((model.conv_stack[4].weight)*(model.conv_stack[4].weight)).sum() \n",
    "+ ((model.conv_stack[6].weight)*(model.conv_stack[6].weight)).sum())\n",
    "\n",
    "weight_sum"
   ]
  },
  {
   "cell_type": "code",
   "execution_count": 24,
   "id": "f860e0fd",
   "metadata": {},
   "outputs": [],
   "source": [
    "def decode_fizzbuzz(x):\n",
    "    if x==0:\n",
    "        return 'FizzBuzz'\n",
    "    elif x==1:\n",
    "        return 'Fizz'\n",
    "    elif x==2:\n",
    "        return 'Buzz'\n",
    "    else:\n",
    "        return 'None'"
   ]
  },
  {
   "cell_type": "code",
   "execution_count": 25,
   "id": "6404a9a6",
   "metadata": {},
   "outputs": [
    {
     "data": {
      "text/plain": [
       "'Buzz'"
      ]
     },
     "execution_count": 25,
     "metadata": {},
     "output_type": "execute_result"
    }
   ],
   "source": [
    "X1 = binary_encode(6)\n",
    "\n",
    "\n",
    "\n",
    "\n",
    "input1 = torch.Tensor(X1) \n",
    "a1 = (model(input1.to(device))).cpu().detach().numpy()\n",
    "decode_fizzbuzz(np.argmax(a1))"
   ]
  },
  {
   "cell_type": "code",
   "execution_count": null,
   "id": "1a5224e1",
   "metadata": {},
   "outputs": [],
   "source": []
  },
  {
   "cell_type": "code",
   "execution_count": null,
   "id": "790134c6",
   "metadata": {},
   "outputs": [],
   "source": []
  }
 ],
 "metadata": {
  "kernelspec": {
   "display_name": "Python 3 (ipykernel)",
   "language": "python",
   "name": "python3"
  },
  "language_info": {
   "codemirror_mode": {
    "name": "ipython",
    "version": 3
   },
   "file_extension": ".py",
   "mimetype": "text/x-python",
   "name": "python",
   "nbconvert_exporter": "python",
   "pygments_lexer": "ipython3",
   "version": "3.9.16"
  }
 },
 "nbformat": 4,
 "nbformat_minor": 5
}
